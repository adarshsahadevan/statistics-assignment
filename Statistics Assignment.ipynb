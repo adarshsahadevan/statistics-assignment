{
 "cells": [
  {
   "cell_type": "markdown",
   "id": "d7edf734",
   "metadata": {},
   "source": [
    "# Statistics Practice Problems\n"
   ]
  },
  {
   "cell_type": "markdown",
   "id": "33e97b45",
   "metadata": {},
   "source": [
    "### Complete the following problems."
   ]
  },
  {
   "cell_type": "markdown",
   "id": "46282409",
   "metadata": {},
   "source": [
    "#### 1. What is the mean of the following numbers? 12, 37, 72, 38, 76, 35, 28\n",
    "#### a. 42\n",
    "#### b. 39\n",
    "#### c. 42.5\n",
    "#### d. 35.5"
   ]
  },
  {
   "cell_type": "markdown",
   "id": "f2555ebc",
   "metadata": {},
   "source": [
    "#### ans: c) 42.5"
   ]
  },
  {
   "cell_type": "markdown",
   "id": "0e1ab038",
   "metadata": {},
   "source": [
    "#### 2. What number would you divide by to calculate the mean of 3, 4, 2, 7, and 6?\n",
    "#### a. 6\n",
    "#### b. 3\n",
    "#### c. 5\n",
    "#### d. 4\n"
   ]
  },
  {
   "cell_type": "markdown",
   "id": "b0f6a27f",
   "metadata": {},
   "source": [
    "#### ans: c)5"
   ]
  },
  {
   "cell_type": "markdown",
   "id": "0b02155e",
   "metadata": {},
   "source": [
    "#### 3. What measure of central tendency is calculated by adding all the values and dividing the sum by the number of values?\n",
    "#### a. Median\n",
    "#### b. Mean\n",
    "#### c. Mode\n",
    "#### d. Typical value\n"
   ]
  },
  {
   "cell_type": "markdown",
   "id": "5ee5b0cb",
   "metadata": {},
   "source": [
    "#### ans: b) Mean"
   ]
  },
  {
   "cell_type": "markdown",
   "id": "14855fdc",
   "metadata": {},
   "source": [
    "#### 4. The mean of four numbers is 71.5. If three of the numbers are 58, 76, and 88, what is the value of the fourth number?\n",
    "#### a. 64\n",
    "#### b. 60\n",
    "#### c. 76\n",
    "#### d. 82\n"
   ]
  },
  {
   "cell_type": "markdown",
   "id": "918d3bdc",
   "metadata": {},
   "source": [
    "#### ans: a) 64"
   ]
  },
  {
   "cell_type": "markdown",
   "id": "0861aa56",
   "metadata": {},
   "source": [
    "#### 5. Determine the mean of the following set of numbers: 40, 61, 55, 79, 9, 55, 81, 65, 109\n"
   ]
  },
  {
   "cell_type": "markdown",
   "id": "9f3cf670",
   "metadata": {},
   "source": [
    "#### ans: 61.5 is the mean of the above set of numbers."
   ]
  },
  {
   "cell_type": "markdown",
   "id": "bd6d3a95",
   "metadata": {},
   "source": [
    "#### 6. The mean weight of five complete computer stations is 173.2 pounds. The weights of four of the computer stations are 164.4 pounds, 142.8 pounds, 195 pounds, and 188.2 pounds respectively. What is the weight of the fifth computer station?"
   ]
  },
  {
   "cell_type": "markdown",
   "id": "8865acda",
   "metadata": {},
   "source": [
    "#### ans: 175.6 pounds will be the weight of 5th computer station."
   ]
  },
  {
   "cell_type": "markdown",
   "id": "c7c78715",
   "metadata": {},
   "source": [
    "#### 7. The mean width of 10 Ipads is 5.1 inches. The mean width of 6 Fire tablet is 4.8 inches.\n",
    "#### a. What is the total width of the iPads?\n"
   ]
  },
  {
   "cell_type": "markdown",
   "id": "6140cfc9",
   "metadata": {},
   "source": [
    "#### ans: 51 inches."
   ]
  },
  {
   "cell_type": "markdown",
   "id": "ba9c9267",
   "metadata": {},
   "source": [
    "#### b. What is the total width of the Fire tablet?"
   ]
  },
  {
   "cell_type": "markdown",
   "id": "b82bcded",
   "metadata": {},
   "source": [
    "#### ans: 28.8 inches."
   ]
  },
  {
   "cell_type": "markdown",
   "id": "0fd233a9",
   "metadata": {},
   "source": [
    "#### c. What is the mean width of the 10 iPads and 6 Fire tablet?"
   ]
  },
  {
   "cell_type": "markdown",
   "id": "43a13923",
   "metadata": {},
   "source": [
    "#### ans: ( 5.1 + 4.8 ) / 2 = 4.95"
   ]
  },
  {
   "cell_type": "markdown",
   "id": "3062cfb7",
   "metadata": {},
   "source": [
    "#### 8. A group NPS surveys were sent out at random.The scores were 90, 50, 60, 80, 70, 80, 20, 90, 80, 10, and 20. Find the mean score."
   ]
  },
  {
   "cell_type": "markdown",
   "id": "0cf6e2b5",
   "metadata": {},
   "source": [
    "#### ans: mean score is 59.09"
   ]
  },
  {
   "cell_type": "markdown",
   "id": "b9f0a8d9",
   "metadata": {},
   "source": [
    "#### 9. What is the median of the following numbers? 11, 39, 74, 42, 39, 78, 38, 25\n",
    "#### a. 42.5\n",
    "#### b. 39\n",
    "#### c. 42\n",
    "#### d. 35.5"
   ]
  },
  {
   "cell_type": "markdown",
   "id": "cedb89c6",
   "metadata": {},
   "source": [
    "#### ans: b) 39"
   ]
  },
  {
   "cell_type": "markdown",
   "id": "a656a482",
   "metadata": {},
   "source": [
    "#### 10. The front row in a movie theatre has 23 seats. If you were asked to sit in the seat that occupied the median position, in which seat would you have to sit?\n",
    "#### a. 2\n",
    "#### b. 11\n",
    "#### c. 22\n",
    "#### d. 12"
   ]
  },
  {
   "cell_type": "markdown",
   "id": "0bab81ab",
   "metadata": {},
   "source": [
    "#### ans: d) 12"
   ]
  },
  {
   "cell_type": "markdown",
   "id": "fa9cfa22",
   "metadata": {},
   "source": [
    "#### 11. What is the median score achieved by a student who recorded the following scores on 10 math quizzes?\n",
    "#### 68, 55, 70, 62, 71, 58, 81, 82, 63, 79\n",
    "#### a. 68\n",
    "#### b. 71\n",
    "#### c. 69\n",
    "#### d. 79"
   ]
  },
  {
   "cell_type": "markdown",
   "id": "88d22121",
   "metadata": {},
   "source": [
    "#### ans: c) 69"
   ]
  },
  {
   "cell_type": "markdown",
   "id": "be5b0b67",
   "metadata": {},
   "source": [
    "#### 12. The number of cola sold by each of 30 salesperson is as follows: 42, 6, 21, 10, 8, 11, 12, 36, 17, 16, 15, 18, 40, 24, 21, 23, 24, 24, 29, 16, 32, 31, 10, 30,45, 32, 18, 40, 12, 20 .What is the median number of colas sold by the 30 salesperson?\n",
    "#### a. 18\n",
    "#### b. 21\n",
    "#### c. 24\n",
    "#### d. 32"
   ]
  },
  {
   "cell_type": "markdown",
   "id": "e4b2db18",
   "metadata": {},
   "source": [
    "#### ans: b) 21"
   ]
  },
  {
   "cell_type": "markdown",
   "id": "d251c41e",
   "metadata": {},
   "source": [
    "#### 13. Which of the following measures can be determined for quantitative data?\n",
    "#### a. Mean\n",
    "#### b. Median\n",
    "#### c. Mode\n",
    "#### d. All of these "
   ]
  },
  {
   "cell_type": "markdown",
   "id": "6f0420d0",
   "metadata": {},
   "source": [
    "#### ans: d) all of these"
   ]
  },
  {
   "cell_type": "markdown",
   "id": "8b15d9aa",
   "metadata": {},
   "source": [
    "#### 14. Which of the following measures can be calculated for qualitative data?\n",
    "#### a. Mean\n",
    "#### b. Median\n",
    "#### c. Mode\n",
    "#### d. All of these "
   ]
  },
  {
   "cell_type": "markdown",
   "id": "d01e5ce9",
   "metadata": {},
   "source": [
    "#### ans: c) mode"
   ]
  },
  {
   "cell_type": "markdown",
   "id": "d19aed75",
   "metadata": {},
   "source": [
    "#### 15. What is the mode of the following numbers? 12, 11, 14, 10, 8, 13, 11, 9\n",
    "#### a. 11\n",
    "#### b. 10\n",
    "#### c. 14\n",
    "#### d. 8"
   ]
  },
  {
   "cell_type": "markdown",
   "id": "268b7319",
   "metadata": {},
   "source": [
    "#### ans: a) 11"
   ]
  },
  {
   "cell_type": "markdown",
   "id": "a9f8808a",
   "metadata": {},
   "source": [
    "#### 16. What are the modes of the following sets of numbers?\n",
    "#### a. 4, 13, 6, 9, 10, 5, 6\n"
   ]
  },
  {
   "cell_type": "markdown",
   "id": "51b966d0",
   "metadata": {},
   "source": [
    "#### ans: 6 is the mode"
   ]
  },
  {
   "cell_type": "markdown",
   "id": "d7bb14cc",
   "metadata": {},
   "source": [
    "#### b. 17, 10, 15, 15, 13, 19, 16, 13, 16, 16"
   ]
  },
  {
   "cell_type": "markdown",
   "id": "28876385",
   "metadata": {},
   "source": [
    "#### ans: 16 is the mode"
   ]
  },
  {
   "cell_type": "code",
   "execution_count": null,
   "id": "9547e04a",
   "metadata": {},
   "outputs": [],
   "source": []
  }
 ],
 "metadata": {
  "kernelspec": {
   "display_name": "Python 3 (ipykernel)",
   "language": "python",
   "name": "python3"
  },
  "language_info": {
   "codemirror_mode": {
    "name": "ipython",
    "version": 3
   },
   "file_extension": ".py",
   "mimetype": "text/x-python",
   "name": "python",
   "nbconvert_exporter": "python",
   "pygments_lexer": "ipython3",
   "version": "3.11.5"
  }
 },
 "nbformat": 4,
 "nbformat_minor": 5
}
