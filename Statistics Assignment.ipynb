{
 "cells": [
  {
   "cell_type": "markdown",
   "id": "d7edf734",
   "metadata": {},
   "source": [
    "# Statistics Practice Problems\n"
   ]
  },
  {
   "cell_type": "markdown",
   "id": "33e97b45",
   "metadata": {},
   "source": [
    "### Complete the following problems."
   ]
  },
  {
   "cell_type": "markdown",
   "id": "46282409",
   "metadata": {},
   "source": [
    "#### 1. What is the mean of the following numbers? 12, 37, 72, 38, 76, 35, 28\n",
    "#### a. 42\n",
    "#### b. 39\n",
    "#### c. 42.5\n",
    "#### d. 35.5"
   ]
  },
  {
   "cell_type": "code",
   "execution_count": 23,
   "id": "62e248ab",
   "metadata": {},
   "outputs": [
    {
     "name": "stdout",
     "output_type": "stream",
     "text": [
      "mean is:  42.57\n"
     ]
    }
   ],
   "source": [
    "import statistics as sts\n",
    "data=12,37,72,38,76,35,28\n",
    "mean_=sts.mean(data)\n",
    "round_mean=round(mean_,2)\n",
    "print(\"mean is: \",round_mean)"
   ]
  },
  {
   "cell_type": "markdown",
   "id": "f2555ebc",
   "metadata": {},
   "source": [
    "#### ans: c) 42.5"
   ]
  },
  {
   "cell_type": "markdown",
   "id": "0e1ab038",
   "metadata": {},
   "source": [
    "#### 2. What number would you divide by to calculate the mean of 3, 4, 2, 7, and 6?\n",
    "#### a. 6\n",
    "#### b. 3\n",
    "#### c. 5\n",
    "#### d. 4\n"
   ]
  },
  {
   "cell_type": "code",
   "execution_count": 11,
   "id": "97cd05b9",
   "metadata": {},
   "outputs": [
    {
     "name": "stdout",
     "output_type": "stream",
     "text": [
      "5\n"
     ]
    }
   ],
   "source": [
    "data1= 3,4,2,7,6\n",
    "n=len(data1)\n",
    "print(n)"
   ]
  },
  {
   "cell_type": "markdown",
   "id": "b0f6a27f",
   "metadata": {},
   "source": [
    "#### ans: c)5"
   ]
  },
  {
   "cell_type": "markdown",
   "id": "0b02155e",
   "metadata": {},
   "source": [
    "#### 3. What measure of central tendency is calculated by adding all the values and dividing the sum by the number of values?\n",
    "#### a. Median\n",
    "#### b. Mean\n",
    "#### c. Mode\n",
    "#### d. Typical value\n"
   ]
  },
  {
   "cell_type": "markdown",
   "id": "5ee5b0cb",
   "metadata": {},
   "source": [
    "#### ans: b) Mean"
   ]
  },
  {
   "cell_type": "markdown",
   "id": "14855fdc",
   "metadata": {},
   "source": [
    "#### 4. The mean of four numbers is 71.5. If three of the numbers are 58, 76, and 88, what is the value of the fourth number?\n",
    "#### a. 64\n",
    "#### b. 60\n",
    "#### c. 76\n",
    "#### d. 82\n"
   ]
  },
  {
   "cell_type": "code",
   "execution_count": 13,
   "id": "2f462dcf",
   "metadata": {},
   "outputs": [
    {
     "name": "stdout",
     "output_type": "stream",
     "text": [
      "64.0\n"
     ]
    }
   ],
   "source": [
    "nums_=58,76,88\n",
    "mean_=71.5\n",
    "\n",
    "sum_of_nums=sum(nums_)\n",
    "x=mean_*4\n",
    "fourth_num=x-sum_of_nums\n",
    "\n",
    "print(fourth_num)"
   ]
  },
  {
   "cell_type": "markdown",
   "id": "918d3bdc",
   "metadata": {},
   "source": [
    "#### ans: a) 64"
   ]
  },
  {
   "cell_type": "markdown",
   "id": "0861aa56",
   "metadata": {},
   "source": [
    "#### 5. Determine the mean of the following set of numbers: 40, 61, 55, 79, 9, 55, 81, 65, 109\n"
   ]
  },
  {
   "cell_type": "code",
   "execution_count": 28,
   "id": "4390c6af",
   "metadata": {},
   "outputs": [
    {
     "name": "stdout",
     "output_type": "stream",
     "text": [
      "62.38 is the mean of the above set of numbers.\n"
     ]
    }
   ],
   "source": [
    "import statistics as sts\n",
    "num1={40,61,55,79,9,55,81,65,109}\n",
    "mean_=sts.mean(num1)\n",
    "print(f\"{mean_:0.2f} is the mean of the above set of numbers.\")"
   ]
  },
  {
   "cell_type": "markdown",
   "id": "bd6d3a95",
   "metadata": {},
   "source": [
    "#### 6. The mean weight of five complete computer stations is 173.2 pounds. The weights of four of the computer stations are 164.4 pounds, 142.8 pounds, 195 pounds, and 188.2 pounds respectively. What is the weight of the fifth computer station?"
   ]
  },
  {
   "cell_type": "code",
   "execution_count": 31,
   "id": "f877563d",
   "metadata": {},
   "outputs": [
    {
     "name": "stdout",
     "output_type": "stream",
     "text": [
      "175.60 pounds will be the weight of 5th computer station.\n"
     ]
    }
   ],
   "source": [
    "mean_5_cs=173.2\n",
    "weight_of_four=164.4,142.8,195,188.2\n",
    "\n",
    "sum_=sum(weight_of_four)\n",
    "product_=173.2*5\n",
    "weight_fith_cs=product_-sum_\n",
    "\n",
    "print(f\"{weight_fith_cs:0.2f} pounds will be the weight of 5th computer station.\")"
   ]
  },
  {
   "cell_type": "markdown",
   "id": "c7c78715",
   "metadata": {},
   "source": [
    "#### 7. The mean width of 10 Ipads is 5.1 inches. The mean width of 6 Fire tablet is 4.8 inches.\n",
    "#### a. What is the total width of the iPads?\n"
   ]
  },
  {
   "cell_type": "code",
   "execution_count": 32,
   "id": "b3c4d4cd",
   "metadata": {},
   "outputs": [
    {
     "name": "stdout",
     "output_type": "stream",
     "text": [
      "51.0 inches is the total width of ipads\n"
     ]
    }
   ],
   "source": [
    "mean_w=5.1\n",
    "num_of_ipads=10\n",
    "total_width=mean_w*num_of_ipads\n",
    "print(total_width,\"inches is the total width of ipads\")"
   ]
  },
  {
   "cell_type": "markdown",
   "id": "ba9c9267",
   "metadata": {},
   "source": [
    "#### b. What is the total width of the Fire tablet?"
   ]
  },
  {
   "cell_type": "code",
   "execution_count": 34,
   "id": "aa665fe0",
   "metadata": {},
   "outputs": [
    {
     "name": "stdout",
     "output_type": "stream",
     "text": [
      "28.80 inches is the total width of fire tablet\n"
     ]
    }
   ],
   "source": [
    "mean_w1=4.8\n",
    "num_of_fire=6\n",
    "total_width=mean_w1*num_of_fire\n",
    "print(f\"{total_width:0.2f} inches is the total width of fire tablet\")"
   ]
  },
  {
   "cell_type": "markdown",
   "id": "0fd233a9",
   "metadata": {},
   "source": [
    "#### c. What is the mean width of the 10 iPads and 6 Fire tablet?"
   ]
  },
  {
   "cell_type": "code",
   "execution_count": 37,
   "id": "38d9cf52",
   "metadata": {},
   "outputs": [
    {
     "name": "stdout",
     "output_type": "stream",
     "text": [
      "4.95 inches is the mean width of both ipads and fire tablet.\n"
     ]
    }
   ],
   "source": [
    "mean_w=5.1\n",
    "mean_w1=4.8\n",
    "mean_t=mean_w+mean_w1\n",
    "mean_of_both=mean_t/2\n",
    "print(f\"{mean_of_both:0.2f} inches is the mean width of both ipads and fire tablet.\")"
   ]
  },
  {
   "cell_type": "markdown",
   "id": "3062cfb7",
   "metadata": {},
   "source": [
    "#### 8. A group NPS surveys were sent out at random.The scores were 90, 50, 60, 80, 70, 80, 20, 90, 80, 10, and 20. Find the mean score."
   ]
  },
  {
   "cell_type": "code",
   "execution_count": 40,
   "id": "cbcdda4c",
   "metadata": {},
   "outputs": [
    {
     "name": "stdout",
     "output_type": "stream",
     "text": [
      "mean score is 59.09\n"
     ]
    }
   ],
   "source": [
    "import statistics as sts\n",
    "scores=90, 50, 60, 80, 70, 80, 20, 90, 80, 10, 20\n",
    "\n",
    "mean_score=sts.mean(scores)\n",
    "print(f\"mean score is {mean_score:0.2f}\")"
   ]
  },
  {
   "cell_type": "markdown",
   "id": "b9f0a8d9",
   "metadata": {},
   "source": [
    "#### 9. What is the median of the following numbers? 11, 39, 74, 42, 39, 78, 38, 25\n",
    "#### a. 42.5\n",
    "#### b. 39\n",
    "#### c. 42\n",
    "#### d. 35.5"
   ]
  },
  {
   "cell_type": "code",
   "execution_count": 41,
   "id": "9e36981f",
   "metadata": {
    "scrolled": true
   },
   "outputs": [
    {
     "name": "stdout",
     "output_type": "stream",
     "text": [
      "39.00 is the median of (11, 39, 74, 42, 39, 78, 38, 25)\n"
     ]
    }
   ],
   "source": [
    "import statistics as sts\n",
    "numb= 11, 39, 74, 42, 39, 78, 38, 25\n",
    "median_=sts.median(numb)\n",
    "print(f\"{median_:0.2f} is the median of {numb}\")"
   ]
  },
  {
   "cell_type": "markdown",
   "id": "edc40c3e",
   "metadata": {},
   "source": [
    "#### ans: b) 39"
   ]
  },
  {
   "cell_type": "markdown",
   "id": "a656a482",
   "metadata": {},
   "source": [
    "#### 10. The front row in a movie theatre has 23 seats. If you were asked to sit in the seat that occupied the median position, in which seat would you have to sit?\n",
    "#### a. 2\n",
    "#### b. 11\n",
    "#### c. 22\n",
    "#### d. 12"
   ]
  },
  {
   "cell_type": "code",
   "execution_count": 10,
   "id": "725766cc",
   "metadata": {},
   "outputs": [
    {
     "name": "stdout",
     "output_type": "stream",
     "text": [
      "12.00 is the median position\n"
     ]
    }
   ],
   "source": [
    "import statistics as sts\n",
    "n=23\n",
    "seats=range(1,n+1)\n",
    "median_pos=sts.median(seats)\n",
    "print(f\"{median_pos:0.2f} is the median position\")"
   ]
  },
  {
   "cell_type": "markdown",
   "id": "0bab81ab",
   "metadata": {},
   "source": [
    "#### ans: d) 12"
   ]
  },
  {
   "cell_type": "markdown",
   "id": "fa9cfa22",
   "metadata": {},
   "source": [
    "#### 11. What is the median score achieved by a student who recorded the following scores on 10 math quizzes?\n",
    "#### 68, 55, 70, 62, 71, 58, 81, 82, 63, 79\n",
    "#### a. 68\n",
    "#### b. 71\n",
    "#### c. 69\n",
    "#### d. 79"
   ]
  },
  {
   "cell_type": "code",
   "execution_count": 42,
   "id": "d68d43a8",
   "metadata": {},
   "outputs": [
    {
     "name": "stdout",
     "output_type": "stream",
     "text": [
      "69.00 is the median score\n"
     ]
    }
   ],
   "source": [
    "import statistics as sts\n",
    "scores=68, 55, 70, 62, 71, 58, 81, 82, 63, 79\n",
    "median_score=sts.median(scores)\n",
    "print(f\"{median_score:0.2f} is the median score\")"
   ]
  },
  {
   "cell_type": "markdown",
   "id": "3e19e3c8",
   "metadata": {},
   "source": [
    "#### ans: c) 69"
   ]
  },
  {
   "cell_type": "markdown",
   "id": "be5b0b67",
   "metadata": {},
   "source": [
    "#### 12. The number of cola sold by each of 30 salesperson is as follows: 42, 6, 21, 10, 8, 11, 12, 36, 17, 16, 15, 18, 40, 24, 21, 23, 24, 24, 29, 16, 32, 31, 10, 30,45, 32, 18, 40, 12, 20 .What is the median number of colas sold by the 30 salesperson?\n",
    "#### a. 18\n",
    "#### b. 21\n",
    "#### c. 24\n",
    "#### d. 32"
   ]
  },
  {
   "cell_type": "code",
   "execution_count": 1,
   "id": "9a3d35ee",
   "metadata": {},
   "outputs": [
    {
     "name": "stdout",
     "output_type": "stream",
     "text": [
      "21.00 is the median number of colas\n"
     ]
    }
   ],
   "source": [
    "import statistics as sts\n",
    "no_cola=42, 6, 21, 10, 8, 11, 12, 36, 17, 16, 15, 18, 40, 24, 21, 23, 24, 24, 29, 16, 32, 31, 10, 30,45, 32, 18, 40, 12, 20\n",
    "median_num=sts.median(no_cola)\n",
    "print(f\"{median_num:0.2f} is the median number of colas\")"
   ]
  },
  {
   "cell_type": "markdown",
   "id": "e4b2db18",
   "metadata": {},
   "source": [
    "#### ans: b) 21"
   ]
  },
  {
   "cell_type": "markdown",
   "id": "d251c41e",
   "metadata": {},
   "source": [
    "#### 13. Which of the following measures can be determined for quantitative data?\n",
    "#### a. Mean\n",
    "#### b. Median\n",
    "#### c. Mode\n",
    "#### d. All of these "
   ]
  },
  {
   "cell_type": "markdown",
   "id": "6f0420d0",
   "metadata": {},
   "source": [
    "#### ans: d) all of these"
   ]
  },
  {
   "cell_type": "markdown",
   "id": "8b15d9aa",
   "metadata": {},
   "source": [
    "#### 14. Which of the following measures can be calculated for qualitative data?\n",
    "#### a. Mean\n",
    "#### b. Median\n",
    "#### c. Mode\n",
    "#### d. All of these "
   ]
  },
  {
   "cell_type": "markdown",
   "id": "d01e5ce9",
   "metadata": {},
   "source": [
    "#### ans: c) mode"
   ]
  },
  {
   "cell_type": "markdown",
   "id": "d19aed75",
   "metadata": {},
   "source": [
    "#### 15. What is the mode of the following numbers? 12, 11, 14, 10, 8, 13, 11, 9\n",
    "#### a. 11\n",
    "#### b. 10\n",
    "#### c. 14\n",
    "#### d. 8"
   ]
  },
  {
   "cell_type": "code",
   "execution_count": 3,
   "id": "5a15c039",
   "metadata": {},
   "outputs": [
    {
     "name": "stdout",
     "output_type": "stream",
     "text": [
      "11 is the mode of  (12, 11, 14, 10, 8, 13, 11, 9)\n"
     ]
    }
   ],
   "source": [
    "import statistics as sts\n",
    "nums=12, 11, 14, 10, 8, 13, 11, 9\n",
    "mode_of_nums=sts.mode(nums)\n",
    "print(mode_of_nums ,\"is the mode of \",nums)"
   ]
  },
  {
   "cell_type": "markdown",
   "id": "268b7319",
   "metadata": {},
   "source": [
    "#### ans: a) 11"
   ]
  },
  {
   "cell_type": "markdown",
   "id": "a9f8808a",
   "metadata": {},
   "source": [
    "#### 16. What are the modes of the following sets of numbers?\n",
    "#### a. 4, 13, 6, 9, 10, 5, 6\n"
   ]
  },
  {
   "cell_type": "code",
   "execution_count": 4,
   "id": "717040f5",
   "metadata": {},
   "outputs": [
    {
     "name": "stdout",
     "output_type": "stream",
     "text": [
      "6 is the mode of  (4, 13, 6, 9, 10, 5, 6)\n"
     ]
    }
   ],
   "source": [
    "import statistics as sts\n",
    "nums1=4, 13, 6, 9, 10, 5, 6\n",
    "mode_of_nums1=sts.mode(nums1)\n",
    "print(mode_of_nums1 ,\"is the mode of \",nums1)"
   ]
  },
  {
   "cell_type": "markdown",
   "id": "d7bb14cc",
   "metadata": {},
   "source": [
    "#### b. 17, 10, 15, 15, 13, 19, 16, 13, 16, 16"
   ]
  },
  {
   "cell_type": "code",
   "execution_count": 5,
   "id": "a96f8d9a",
   "metadata": {},
   "outputs": [
    {
     "name": "stdout",
     "output_type": "stream",
     "text": [
      "16 is the mode of  (17, 10, 15, 15, 13, 19, 16, 13, 16, 16)\n"
     ]
    }
   ],
   "source": [
    "import statistics as sts\n",
    "nums2=17, 10, 15, 15, 13, 19, 16, 13, 16, 16\n",
    "mode_of_nums2=sts.mode(nums2)\n",
    "print(mode_of_nums2 ,\"is the mode of \",nums2)"
   ]
  },
  {
   "cell_type": "code",
   "execution_count": null,
   "id": "9547e04a",
   "metadata": {},
   "outputs": [],
   "source": []
  }
 ],
 "metadata": {
  "kernelspec": {
   "display_name": "Python 3 (ipykernel)",
   "language": "python",
   "name": "python3"
  },
  "language_info": {
   "codemirror_mode": {
    "name": "ipython",
    "version": 3
   },
   "file_extension": ".py",
   "mimetype": "text/x-python",
   "name": "python",
   "nbconvert_exporter": "python",
   "pygments_lexer": "ipython3",
   "version": "3.11.5"
  }
 },
 "nbformat": 4,
 "nbformat_minor": 5
}
